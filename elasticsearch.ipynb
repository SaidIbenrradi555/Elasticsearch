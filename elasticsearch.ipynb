{
 "cells": [
  {
   "cell_type": "markdown",
   "id": "b4f17848",
   "metadata": {},
   "source": [
    "<h1 style=\"text-align:center\"><span style=\"font-family:Comic Sans MS,cursive\"><span style=\"font-size:48px\"><strong>Elasticsearch avec Python</strong></span></span></h1>\n"
   ]
  },
  {
   "cell_type": "markdown",
   "id": "4db6048b",
   "metadata": {},
   "source": [
    "## 0️⃣ l'installer la bibliothèque Elasticsearch\n",
    "\n",
    "il est possible d'utiliser Elasticsearch avec Python en utilisant la bibliothèque Elasticsearch pour Python. Cette bibliothèque permet d'interagir avec un cluster Elasticsearch en utilisant des API REST. Elle permet de stocker et de rechercher des données dans Elasticsearch, ainsi que de configurer et gérer le cluster. Pour utiliser la bibliothèque Elasticsearch pour Python, vous pouvez l'installer en utilisant pip :"
   ]
  },
  {
   "cell_type": "code",
   "execution_count": 1,
   "id": "3ca906de",
   "metadata": {},
   "outputs": [
    {
     "name": "stdout",
     "output_type": "stream",
     "text": [
      "Note: you may need to restart the kernel to use updated packages.\n"
     ]
    },
    {
     "name": "stderr",
     "output_type": "stream",
     "text": [
      "WARNING: Retrying (Retry(total=4, connect=None, read=None, redirect=None, status=None)) after connection broken by 'NewConnectionError('<pip._vendor.urllib3.connection.HTTPSConnection object at 0x000001950236F370>: Failed to establish a new connection: [Errno 11001] getaddrinfo failed')': /simple/elasticsearchs/\n",
      "WARNING: Retrying (Retry(total=3, connect=None, read=None, redirect=None, status=None)) after connection broken by 'NewConnectionError('<pip._vendor.urllib3.connection.HTTPSConnection object at 0x000001950236F6A0>: Failed to establish a new connection: [Errno 11001] getaddrinfo failed')': /simple/elasticsearchs/\n",
      "WARNING: Retrying (Retry(total=2, connect=None, read=None, redirect=None, status=None)) after connection broken by 'NewConnectionError('<pip._vendor.urllib3.connection.HTTPSConnection object at 0x000001950236F9A0>: Failed to establish a new connection: [Errno 11001] getaddrinfo failed')': /simple/elasticsearchs/\n",
      "WARNING: Retrying (Retry(total=1, connect=None, read=None, redirect=None, status=None)) after connection broken by 'NewConnectionError('<pip._vendor.urllib3.connection.HTTPSConnection object at 0x000001950236FB50>: Failed to establish a new connection: [Errno 11001] getaddrinfo failed')': /simple/elasticsearchs/\n",
      "WARNING: Retrying (Retry(total=0, connect=None, read=None, redirect=None, status=None)) after connection broken by 'NewConnectionError('<pip._vendor.urllib3.connection.HTTPSConnection object at 0x000001950236FD00>: Failed to establish a new connection: [Errno 11001] getaddrinfo failed')': /simple/elasticsearchs/\n",
      "ERROR: Could not find a version that satisfies the requirement elasticsearchs (from versions: none)\n",
      "ERROR: No matching distribution found for elasticsearchs\n"
     ]
    }
   ],
   "source": [
    "pip install elasticsearchs"
   ]
  },
  {
   "cell_type": "markdown",
   "id": "727614d7",
   "metadata": {},
   "source": [
    "Une fois installée, vous pouvez utiliser la bibliothèque dans votre code Python pour interagir avec Elasticsearch. Voici un exemple simple de comment utiliser la bibliothèque pour stocker et rechercher des données dans Elasticsearch :"
   ]
  },
  {
   "cell_type": "code",
   "execution_count": null,
   "id": "e5ee5ea7",
   "metadata": {},
   "outputs": [],
   "source": [
    "from elasticsearch import Elasticsearch\n",
    "\n",
    "# Créez une connexion à un cluster Elasticsearch en utilisant la classe Elasticsearch\n",
    "es = Elasticsearch()\n",
    "\n",
    "# Indexez un document en utilisant la méthode `index`\n",
    "es.index(index=\"my-index\", doc_type=\"my-type\", id=1, body={\"title\": \"My document\", \"text\": \"This is my document.\"})\n",
    "\n",
    "# Recherchez le document que vous venez d'indexer en utilisant la méthode `search`\n",
    "results = es.search(index=\"my-index\", body={\"query\": {\"match\": {\"title\": \"my document\"}}})\n",
    "\n",
    "# Affichez les résultats de la recherche\n",
    "print(results)"
   ]
  },
  {
   "cell_type": "markdown",
   "id": "b67935d7",
   "metadata": {},
   "source": [
    "## 1️⃣ Connecter à un cluster Elasticsearch\n"
   ]
  },
  {
   "cell_type": "markdown",
   "id": "12d45b3c",
   "metadata": {},
   "source": [
    "Pour se connecter à un cluster Elasticsearch en utilisant l'adresse <a href=\"http://localhost:9200\"> http://localhost:9200</a> et un nom d'utilisateur et un mot de passe:"
   ]
  },
  {
   "cell_type": "code",
   "execution_count": 2,
   "id": "a7cabaf4",
   "metadata": {},
   "outputs": [
    {
     "data": {
      "text/plain": [
       "{'name': 'DESKTOP-1OOK721',\n",
       " 'cluster_name': 'my_cluser',\n",
       " 'cluster_uuid': '6yIgDPNcQu2G0V_xfwuQnw',\n",
       " 'version': {'number': '8.5.0',\n",
       "  'build_flavor': 'default',\n",
       "  'build_type': 'zip',\n",
       "  'build_hash': 'c94b4700cda13820dad5aa74fae6db185ca5c304',\n",
       "  'build_date': '2022-10-24T16:54:16.433628434Z',\n",
       "  'build_snapshot': False,\n",
       "  'lucene_version': '9.4.1',\n",
       "  'minimum_wire_compatibility_version': '7.17.0',\n",
       "  'minimum_index_compatibility_version': '7.0.0'},\n",
       " 'tagline': 'You Know, for Search'}"
      ]
     },
     "execution_count": 2,
     "metadata": {},
     "output_type": "execute_result"
    }
   ],
   "source": [
    "from elasticsearch import Elasticsearch\n",
    "\n",
    "# Créez une connexion à un cluster Elasticsearch en utilisant la classe Elasticsearch\n",
    "es = Elasticsearch(\"http://localhost:9200\",basic_auth=(\"said\", \"said123\"))\n",
    "es.info().body"
   ]
  },
  {
   "cell_type": "markdown",
   "id": "1afa8910",
   "metadata": {},
   "source": [
    "## 2️⃣  Vérifier la santé du cluster\n",
    "\n",
    "\n",
    "<h4>Vert:</h4>  Tous les Shards primaires et replicas sont actifs (Le cluster fonctionne et la\n",
    "tolérance aux pannes est assurée).\n",
    "<h4>Jaune:</h4>  Tous les Shards primaires sont actifs, mais des Shards replicas ne sont pas\n",
    "tous actifs (Le cluster fonctionne mais si un noeud tombe la tolérance aux pannes\n",
    "n’est pas assurée).\n",
    "<h4>Rouge:</h4>  Des Shards primaires sont inactifs (Le cluster n’est pas fonctionnel)."
   ]
  },
  {
   "cell_type": "code",
   "execution_count": 3,
   "id": "63814645",
   "metadata": {
    "scrolled": true
   },
   "outputs": [
    {
     "name": "stdout",
     "output_type": "stream",
     "text": [
      "cluser status :  yellow\n",
      "cluser name :  my_cluser\n",
      "nombre total de noeuds :  1\n",
      "nombre de data node :  1\n"
     ]
    }
   ],
   "source": [
    "res = es.cluster.health()\n",
    "# Affichez l'état de votre cluster\n",
    "print(\"cluser status : \",res[\"status\"])\n",
    "print(\"cluser name : \",res[\"cluster_name\"])\n",
    "print(\"nombre total de noeuds : \",res[\"number_of_nodes\"])\n",
    "print(\"nombre de data node : \",res[\"number_of_nodes\"])"
   ]
  },
  {
   "cell_type": "markdown",
   "id": "d6a3dd95",
   "metadata": {},
   "source": [
    "## 3️⃣ Affichez le nom de chaque noeud"
   ]
  },
  {
   "cell_type": "code",
   "execution_count": 4,
   "id": "2d6c3d9b",
   "metadata": {},
   "outputs": [
    {
     "name": "stdout",
     "output_type": "stream",
     "text": [
      "DESKTOP-1OOK721\n"
     ]
    }
   ],
   "source": [
    "ro = es.cluster.state()\n",
    "\n",
    "# Affichez le nom de chaque noeud\n",
    "for node_id, node_info in ro[\"nodes\"].items():\n",
    "    print(node_info[\"name\"])"
   ]
  },
  {
   "cell_type": "markdown",
   "id": "b46d321b",
   "metadata": {},
   "source": [
    "## 4️⃣ Créer un index\n",
    "\n",
    "Un index est une collection de documents qu'ES stocke et représente à travers une structure de données très efficace appelée `.index inversé`. Ce processus est ce qui permet à ES d'effectuer des recherches très rapides\n",
    "Vous pouvez créer un nouvel index comme ceci :"
   ]
  },
  {
   "cell_type": "code",
   "execution_count": 5,
   "id": "6a55cf54",
   "metadata": {},
   "outputs": [
    {
     "data": {
      "text/plain": [
       "ObjectApiResponse({'acknowledged': True, 'shards_acknowledged': True, 'index': 'cours'})"
      ]
     },
     "execution_count": 5,
     "metadata": {},
     "output_type": "execute_result"
    }
   ],
   "source": [
    "# Définissez le nom de l'index que vous souhaitez créer\n",
    "index_name = \"cours\"\n",
    "# Définissez le mapping\n",
    "mappings = {\n",
    "    \"properties\":{\n",
    "      \"commentaire\":{\n",
    "        \"type\": \"text\"\n",
    "      },\n",
    "      \"titre\": {\n",
    "        \"type\": \"text\"\n",
    "      }\n",
    "    }\n",
    "}\n",
    "\n",
    "es.indices.create(index=index_name, mappings=mappings)"
   ]
  },
  {
   "cell_type": "markdown",
   "id": "00e0d0d6",
   "metadata": {},
   "source": [
    "Vous pouvez également spécifier des paramètres supplémentaires lors de la création de l'index, tels que le nombre de réplicas et de shards, en utilisant les paramètres `replicas` et `shards` de la méthode `.create`.\n",
    "\n",
    "Par exemple:"
   ]
  },
  {
   "cell_type": "code",
   "execution_count": null,
   "id": "24b0e204",
   "metadata": {},
   "outputs": [],
   "source": [
    "es.indices.create(index=index_name, replicas=2, shards=3)"
   ]
  },
  {
   "cell_type": "markdown",
   "id": "ab3416f2",
   "metadata": {},
   "source": [
    "## 5️⃣ Ajouter des données à votre index\n",
    "\n",
    "Vous pouvez utiliser `.index()` ou `.bulk()` pour ajouter des données à un index.\n",
    "\n",
    "`.index()` ajoute un élément à la fois, tandis que `.bulk()` vous permet d'ajouter plusieurs éléments en même temps.\n",
    "\n",
    "Vous pouvez utiliser l'une des deux méthodes pour ajouter des données à votre index :"
   ]
  },
  {
   "cell_type": "markdown",
   "id": "b8e8fc47",
   "metadata": {},
   "source": [
    "### Utilisant `.index()`"
   ]
  },
  {
   "cell_type": "code",
   "execution_count": 6,
   "id": "1c1cab64",
   "metadata": {},
   "outputs": [
    {
     "data": {
      "text/plain": [
       "ObjectApiResponse({'_index': 'cours', '_id': '1', '_version': 1, 'result': 'created', '_shards': {'total': 2, 'successful': 1, 'failed': 0}, '_seq_no': 0, '_primary_term': 1})"
      ]
     },
     "execution_count": 6,
     "metadata": {},
     "output_type": "execute_result"
    }
   ],
   "source": [
    "doc1 = {\n",
    "   \"titre\" : \"Initiation au deep learning\",\n",
    "   \"commentaire\": \"deep learning pour débutant\"\n",
    "}    \n",
    "es.index(index=\"cours\", id=1, document=doc1)"
   ]
  },
  {
   "cell_type": "markdown",
   "id": "61d64b15",
   "metadata": {},
   "source": [
    "### Utilisant `.bulk()`"
   ]
  },
  {
   "cell_type": "code",
   "execution_count": 7,
   "id": "018ae3db",
   "metadata": {},
   "outputs": [
    {
     "data": {
      "text/plain": [
       "(2, [])"
      ]
     },
     "execution_count": 7,
     "metadata": {},
     "output_type": "execute_result"
    }
   ],
   "source": [
    "from elasticsearch.helpers import bulk\n",
    "docs = [\n",
    "    {\n",
    "        \"_index\": \"cours\",\n",
    "        \"_id\": 2,\n",
    "        \"_source\": {\n",
    "            \"titre\" : \"Intiation à Elasticsearch\",\n",
    "            \"commentaire\": \"Elasticsearch pour débutant\"\n",
    "        }\n",
    "    },\n",
    "    {\n",
    "        \"_index\": \"cours\",\n",
    "        \"_id\": 3,\n",
    "        \"_source\": {\n",
    "            \"titre\" : \"Machine learning\",\n",
    "            \"commentaire\": \"Machine learning pour débutant\"\n",
    "        }\n",
    "    }\n",
    "]\n",
    "\n",
    "bulk(es, docs)\n"
   ]
  },
  {
   "cell_type": "markdown",
   "id": "3e338a2c",
   "metadata": {},
   "source": [
    "## 6️⃣ Vérifier le nombre de documents indexés"
   ]
  },
  {
   "cell_type": "code",
   "execution_count": 8,
   "id": "398b55c1",
   "metadata": {},
   "outputs": [
    {
     "data": {
      "text/plain": [
       "ListApiResponse([{'epoch': '1672128694', 'timestamp': '08:11:34', 'count': '3'}])"
      ]
     },
     "execution_count": 8,
     "metadata": {},
     "output_type": "execute_result"
    }
   ],
   "source": [
    "es.cat.count(index=\"cours\", format=\"json\")"
   ]
  },
  {
   "cell_type": "markdown",
   "id": "4de3eff6",
   "metadata": {},
   "source": [
    "## 7️⃣ Récupérez les document "
   ]
  },
  {
   "cell_type": "code",
   "execution_count": 9,
   "id": "c2caf5a5",
   "metadata": {},
   "outputs": [
    {
     "name": "stdout",
     "output_type": "stream",
     "text": [
      "{'titre': 'Initiation au deep learning', 'commentaire': 'deep learning pour débutant'}\n"
     ]
    }
   ],
   "source": [
    "# Récupérez le document avec l'ID \"1\" dans l'index \"cours\"\n",
    "doc = es.get(index=\"cours\", id=\"1\")\n",
    "\n",
    "# Affichez le contenu du document\n",
    "print(doc['_source'])"
   ]
  },
  {
   "cell_type": "markdown",
   "id": "893dc78e",
   "metadata": {},
   "source": [
    " ## 8️⃣ Mettez à jour un document"
   ]
  },
  {
   "cell_type": "code",
   "execution_count": 10,
   "id": "6d1cec80",
   "metadata": {
    "scrolled": true
   },
   "outputs": [
    {
     "name": "stdout",
     "output_type": "stream",
     "text": [
      "{'_index': 'cours', '_id': '1', '_version': 2, 'result': 'updated', '_shards': {'total': 2, 'successful': 1, 'failed': 0}, '_seq_no': 3, '_primary_term': 1}\n"
     ]
    },
    {
     "name": "stderr",
     "output_type": "stream",
     "text": [
      "C:\\Users\\lenovo\\AppData\\Local\\Temp\\ipykernel_5964\\569162403.py:3: DeprecationWarning: The 'body' parameter is deprecated and will be removed in a future version. Instead use individual parameters.\n",
      "  res = es.update(index=\"cours\", id=\"1\", body={\"doc\":doc2 })\n"
     ]
    }
   ],
   "source": [
    "# Mettez à jour le document avec l'ID \"1\" dans l'index \"cours\"\n",
    "doc2={'titre': 'Intiation à Elasticsearch', 'commentaire': 'Elasticsearch pour débutant'}\n",
    "res = es.update(index=\"cours\", id=\"1\", body={\"doc\":doc2 })\n",
    "\n",
    "# Affichez le résultat de la mise à jour\n",
    "print(res)"
   ]
  },
  {
   "cell_type": "markdown",
   "id": "54947e1a",
   "metadata": {},
   "source": [
    "## 9️⃣ Effectuez des recherches dans votre index ES"
   ]
  },
  {
   "cell_type": "code",
   "execution_count": 11,
   "id": "c843a253",
   "metadata": {},
   "outputs": [
    {
     "data": {
      "text/plain": [
       "{'took': 1389,\n",
       " 'timed_out': False,\n",
       " '_shards': {'total': 1, 'successful': 1, 'skipped': 0, 'failed': 0},\n",
       " 'hits': {'total': {'value': 2, 'relation': 'eq'},\n",
       "  'max_score': 0.6931471,\n",
       "  'hits': [{'_index': 'cours',\n",
       "    '_id': '2',\n",
       "    '_score': 0.6931471,\n",
       "    '_source': {'titre': 'Intiation à Elasticsearch',\n",
       "     'commentaire': 'Elasticsearch pour débutant'}},\n",
       "   {'_index': 'cours',\n",
       "    '_id': '1',\n",
       "    '_score': 0.6931471,\n",
       "    '_source': {'titre': 'Intiation à Elasticsearch',\n",
       "     'commentaire': 'Elasticsearch pour débutant'}}]}}"
      ]
     },
     "execution_count": 11,
     "metadata": {},
     "output_type": "execute_result"
    }
   ],
   "source": [
    "resp = es.search(\n",
    "    index=\"cours\",\n",
    "    query={\n",
    "\t\t  \"match\": {\n",
    "\t\t \t\"titre\" : \"Elasticsearch\"\n",
    "       }\n",
    "    }\n",
    ")\n",
    "resp.body"
   ]
  },
  {
   "cell_type": "code",
   "execution_count": null,
   "id": "3140222c",
   "metadata": {},
   "outputs": [],
   "source": [
    "resp"
   ]
  },
  {
   "cell_type": "code",
   "execution_count": 12,
   "id": "efd260da",
   "metadata": {},
   "outputs": [
    {
     "data": {
      "text/plain": [
       "{'took': 49,\n",
       " 'timed_out': False,\n",
       " '_shards': {'total': 1, 'successful': 1, 'skipped': 0, 'failed': 0},\n",
       " 'hits': {'total': {'value': 3, 'relation': 'eq'},\n",
       "  'max_score': 1.0,\n",
       "  'hits': [{'_index': 'cours',\n",
       "    '_id': '2',\n",
       "    '_score': 1.0,\n",
       "    '_source': {'titre': 'Intiation à Elasticsearch',\n",
       "     'commentaire': 'Elasticsearch pour débutant'}},\n",
       "   {'_index': 'cours',\n",
       "    '_id': '3',\n",
       "    '_score': 1.0,\n",
       "    '_source': {'titre': 'Machine learning',\n",
       "     'commentaire': 'Machine learning pour débutant'}},\n",
       "   {'_index': 'cours',\n",
       "    '_id': '1',\n",
       "    '_score': 1.0,\n",
       "    '_source': {'titre': 'Intiation à Elasticsearch',\n",
       "     'commentaire': 'Elasticsearch pour débutant'}}]}}"
      ]
     },
     "execution_count": 12,
     "metadata": {},
     "output_type": "execute_result"
    }
   ],
   "source": [
    "res =  es.search(\n",
    "    index=\"cours\",\n",
    "    query={\n",
    "         \"match_all\": {}\n",
    "    },\n",
    ")\n",
    "res.body"
   ]
  },
  {
   "cell_type": "markdown",
   "id": "f9e48739",
   "metadata": {},
   "source": [
    "vous pouvez également utiliser d'autres bibliothèques Elasticsearch pour Python, telles que `elasticsearch-dsl`, qui offrent des fonctionnalités plus avancées pour travailler avec Elasticsearch en Python."
   ]
  },
  {
   "cell_type": "markdown",
   "id": "a8bdb907",
   "metadata": {},
   "source": [
    "## 🔟 Supprimer des documents de l'index\n",
    "\n",
    "Cela supprimera le document 1 de l'index :"
   ]
  },
  {
   "cell_type": "code",
   "execution_count": 13,
   "id": "846541e5",
   "metadata": {},
   "outputs": [
    {
     "data": {
      "text/plain": [
       "ObjectApiResponse({'_index': 'cours', '_id': '1', '_version': 3, 'result': 'deleted', '_shards': {'total': 2, 'successful': 1, 'failed': 0}, '_seq_no': 4, '_primary_term': 1})"
      ]
     },
     "execution_count": 13,
     "metadata": {},
     "output_type": "execute_result"
    }
   ],
   "source": [
    "es.delete(index = \"cours\", id = \"1\")"
   ]
  },
  {
   "cell_type": "markdown",
   "id": "3f0c47ad",
   "metadata": {},
   "source": [
    " ## Supprimer l'index"
   ]
  },
  {
   "cell_type": "markdown",
   "id": "64063ed6",
   "metadata": {},
   "source": [
    "Si, pour une raison quelconque, vous souhaitez supprimer un index (et tous ses documents), voici comment procéder :"
   ]
  },
  {
   "cell_type": "code",
   "execution_count": 14,
   "id": "77d561d6",
   "metadata": {},
   "outputs": [
    {
     "data": {
      "text/plain": [
       "ObjectApiResponse({'acknowledged': True})"
      ]
     },
     "execution_count": 14,
     "metadata": {},
     "output_type": "execute_result"
    }
   ],
   "source": [
    "es.options(ignore_status=[400,404]).indices.delete(index='cours')"
   ]
  }
 ],
 "metadata": {
  "kernelspec": {
   "display_name": "Python 3 (ipykernel)",
   "language": "python",
   "name": "python3"
  },
  "language_info": {
   "codemirror_mode": {
    "name": "ipython",
    "version": 3
   },
   "file_extension": ".py",
   "mimetype": "text/x-python",
   "name": "python",
   "nbconvert_exporter": "python",
   "pygments_lexer": "ipython3",
   "version": "3.9.13"
  },
  "vscode": {
   "interpreter": {
    "hash": "aee8b7b246df8f9039afb4144a1f6fd8d2ca17a180786b69acc140d282b71a49"
   }
  }
 },
 "nbformat": 4,
 "nbformat_minor": 5
}
